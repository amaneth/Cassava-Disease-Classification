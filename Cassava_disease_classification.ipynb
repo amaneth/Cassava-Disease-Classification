{
 "cells": [
  {
   "cell_type": "code",
   "execution_count": null,
   "metadata": {},
   "outputs": [],
   "source": [
    "#install packages\n",
    "!pip install ttach\n",
    "!pip install git+https://github.com/gbaydin/hypergradient-descent.git\n",
    "!pip install pretrainedmodels\n",
    "!pip install --upgrade efficientnet-pytorch"
   ]
  },
  {
   "cell_type": "code",
   "execution_count": null,
   "metadata": {
    "execution": {
     "iopub.execute_input": "2022-04-17T17:45:05.499024Z",
     "iopub.status.busy": "2022-04-17T17:45:05.498807Z",
     "iopub.status.idle": "2022-04-17T17:45:08.286999Z",
     "shell.execute_reply": "2022-04-17T17:45:08.286247Z",
     "shell.execute_reply.started": "2022-04-17T17:45:05.498998Z"
    },
    "id": "e7UytCZrXE-x"
   },
   "outputs": [],
   "source": [
    "#Imports\n",
    "import os\n",
    "import sys\n",
    "import glob\n",
    "import torch\n",
    "import torchvision\n",
    "\n",
    "import numpy    as np\n",
    "import datetime as dt\n",
    "import torch.nn as nn\n",
    "import torch.nn.functional as F\n",
    "import matplotlib.pyplot   as plt\n",
    "\n",
    "from PIL               import Image\n",
    "from torch.utils.data  import Dataset\n",
    "from torch.autograd    import Variable\n",
    "from torch.optim       import lr_scheduler\n",
    "\n",
    "from torch.utils.data  import Dataset, DataLoader\n",
    "from torch.utils.data.sampler import SubsetRandomSampler\n",
    "from torchvision       import transforms, datasets, models\n",
    "from os                import listdir, makedirs, getcwd, remove\n",
    "from os.path           import isfile, join, abspath, exists, isdir, expanduser\n",
    "\n",
    "\n",
    "import pandas as pd\n",
    "\n",
    "from hypergrad import SGDHD, AdamHD\n",
    "\n",
    "import pretrainedmodels\n",
    "\n",
    "from efficientnet_pytorch import EfficientNet\n",
    "\n",
    "import ttach as tta\n",
    "import pandas as pd\n",
    "import shutil\n",
    "\n",
    "%matplotlib inline"
   ]
  },
  {
   "cell_type": "code",
   "execution_count": null,
   "metadata": {
    "execution": {
     "iopub.execute_input": "2022-04-17T17:45:08.288758Z",
     "iopub.status.busy": "2022-04-17T17:45:08.288468Z",
     "iopub.status.idle": "2022-04-17T17:45:08.295039Z",
     "shell.execute_reply": "2022-04-17T17:45:08.294221Z",
     "shell.execute_reply.started": "2022-04-17T17:45:08.288723Z"
    },
    "id": "3vgIozWaXE-y"
   },
   "outputs": [],
   "source": [
    "NAME = \"SUBMISSION\"\n",
    "\n",
    "MODEL_NAME1 = 'se_resnext101_32x4d' # could be fbresnet152 or inceptionresnetv2\n",
    "\n",
    "DIM_1 = 550\n",
    "DIM_2 = 500\n",
    "DIM_TEST_1 = 550\n",
    "DIM_TEST_2 = 500\n",
    "\n",
    "\n",
    "BATCH_SIZE = 8\n",
    "\n",
    "NUM_EPOCHS1 = 10\n",
    "extra=50\n",
    "\n",
    "random_seed = 42\n",
    "shuffle_dataset = True\n",
    "validation_split = .1"
   ]
  },
  {
   "cell_type": "code",
   "execution_count": null,
   "metadata": {
    "execution": {
     "iopub.execute_input": "2022-04-17T17:45:08.297296Z",
     "iopub.status.busy": "2022-04-17T17:45:08.296957Z",
     "iopub.status.idle": "2022-04-17T17:45:08.354825Z",
     "shell.execute_reply": "2022-04-17T17:45:08.353859Z",
     "shell.execute_reply.started": "2022-04-17T17:45:08.29726Z"
    },
    "id": "RSBRoISQXE-y"
   },
   "outputs": [],
   "source": [
    "# Device configuration\n",
    "device = torch.device('cuda:0' if torch.cuda.is_available() else 'cpu')"
   ]
  },
  {
   "cell_type": "code",
   "execution_count": null,
   "metadata": {
    "execution": {
     "iopub.execute_input": "2022-04-17T09:10:24.684076Z",
     "iopub.status.busy": "2022-04-17T09:10:24.683816Z",
     "iopub.status.idle": "2022-04-17T09:10:24.687596Z",
     "shell.execute_reply": "2022-04-17T09:10:24.686862Z",
     "shell.execute_reply.started": "2022-04-17T09:10:24.684048Z"
    },
    "id": "FIqFu5twYiVK",
    "outputId": "ee714a9c-052d-4d4c-dac5-6cc3d785f2f4"
   },
   "outputs": [],
   "source": [
    "# from google.colab import files\n",
    "# files.upload()"
   ]
  },
  {
   "cell_type": "code",
   "execution_count": null,
   "metadata": {
    "execution": {
     "iopub.execute_input": "2022-04-17T17:45:19.849642Z",
     "iopub.status.busy": "2022-04-17T17:45:19.849304Z",
     "iopub.status.idle": "2022-04-17T17:45:21.891702Z",
     "shell.execute_reply": "2022-04-17T17:45:21.890533Z",
     "shell.execute_reply.started": "2022-04-17T17:45:19.84959Z"
    },
    "id": "YDpSaPFGYzJw"
   },
   "outputs": [],
   "source": [
    "!mkdir ~/.kaggle\n",
    "\n",
    "# copy the newly-uploaded file to that directory\n",
    "! cp /kaggle/input/kaggle/kaggle.json ~/.kaggle/\n",
    "\n",
    "# # change permission of the file\n",
    "! chmod 600 ~/.kaggle/kaggle.json"
   ]
  },
  {
   "cell_type": "code",
   "execution_count": null,
   "metadata": {
    "execution": {
     "iopub.execute_input": "2022-04-17T17:45:30.954846Z",
     "iopub.status.busy": "2022-04-17T17:45:30.95428Z",
     "iopub.status.idle": "2022-04-17T17:45:31.62638Z",
     "shell.execute_reply": "2022-04-17T17:45:31.625416Z",
     "shell.execute_reply.started": "2022-04-17T17:45:30.9548Z"
    },
    "id": "BIlZlDxrY5CW"
   },
   "outputs": [],
   "source": [
    "import os\n",
    "# create new directory for the Kaggle project\n",
    "!mkdir Cassava_Disease_Classification\n",
    "os.chdir('Cassava_Disease_Classification')"
   ]
  },
  {
   "cell_type": "code",
   "execution_count": null,
   "metadata": {
    "execution": {
     "iopub.execute_input": "2022-04-17T22:46:24.105003Z",
     "iopub.status.busy": "2022-04-17T22:46:24.104487Z",
     "iopub.status.idle": "2022-04-17T22:46:41.829673Z",
     "shell.execute_reply": "2022-04-17T22:46:41.828799Z",
     "shell.execute_reply.started": "2022-04-17T22:46:24.104963Z"
    },
    "id": "-h7YMa8DZHd4",
    "outputId": "9ce17ee0-4ba0-4c7f-cd06-5234f50addeb"
   },
   "outputs": [],
   "source": [
    "# install new Kaggle API\n",
    "!pip install --upgrade pip\n",
    "!pip install kaggle==1.5.6"
   ]
  },
  {
   "cell_type": "code",
   "execution_count": null,
   "metadata": {
    "execution": {
     "iopub.execute_input": "2022-04-17T17:46:06.655878Z",
     "iopub.status.busy": "2022-04-17T17:46:06.655572Z",
     "iopub.status.idle": "2022-04-17T17:46:28.821106Z",
     "shell.execute_reply": "2022-04-17T17:46:28.820242Z",
     "shell.execute_reply.started": "2022-04-17T17:46:06.65584Z"
    },
    "id": "4D_Ro_k0Y8A_",
    "outputId": "991f69ef-885a-4da2-f774-76538d3e003a"
   },
   "outputs": [],
   "source": [
    "!kaggle competitions download -c ammi-2021-convnets"
   ]
  },
  {
   "cell_type": "code",
   "execution_count": null,
   "metadata": {
    "execution": {
     "iopub.execute_input": "2022-04-17T17:46:28.822949Z",
     "iopub.status.busy": "2022-04-17T17:46:28.822665Z",
     "iopub.status.idle": "2022-04-17T17:46:50.575259Z",
     "shell.execute_reply": "2022-04-17T17:46:50.574284Z",
     "shell.execute_reply.started": "2022-04-17T17:46:28.822912Z"
    },
    "id": "Hxb7dpr3ZQmP"
   },
   "outputs": [],
   "source": [
    "!unzip ammi-2021-convnets.zip > /dev/null"
   ]
  },
  {
   "cell_type": "code",
   "execution_count": null,
   "metadata": {
    "execution": {
     "iopub.execute_input": "2022-04-17T17:47:02.126495Z",
     "iopub.status.busy": "2022-04-17T17:47:02.126175Z",
     "iopub.status.idle": "2022-04-17T17:47:02.134162Z",
     "shell.execute_reply": "2022-04-17T17:47:02.133369Z",
     "shell.execute_reply.started": "2022-04-17T17:47:02.126459Z"
    }
   },
   "outputs": [],
   "source": [
    "classes=['cbsd', 'healthy', 'cbb', 'cmd', 'cgm']"
   ]
  },
  {
   "cell_type": "code",
   "execution_count": null,
   "metadata": {},
   "outputs": [],
   "source": [
    "#pseduo labled data\n",
    "labeled_df= pd.read_csv('/kaggle/input/labeled/labelednew.csv')"
   ]
  },
  {
   "cell_type": "code",
   "execution_count": null,
   "metadata": {
    "execution": {
     "iopub.execute_input": "2022-04-17T17:47:03.463438Z",
     "iopub.status.busy": "2022-04-17T17:47:03.463182Z",
     "iopub.status.idle": "2022-04-17T17:47:03.501255Z",
     "shell.execute_reply": "2022-04-17T17:47:03.500505Z",
     "shell.execute_reply.started": "2022-04-17T17:47:03.463407Z"
    },
    "id": "NHaHDJPaZXmP",
    "outputId": "24ce6416-22d8-487b-fbf5-3220b5bc3223"
   },
   "outputs": [],
   "source": [
    "predictnew=labeled_df.to_numpy()\n",
    "pred=np.array(predictnew)\n",
    "unlabled_list =pred[(-pred[:,1].astype('float64')).argsort()[:extra]]\n",
    "for unlabeled in unlabled_list:\n",
    "    shutil.copy(unlabeled[2],'/kaggle/working/Cassava_Disease_Classification/train/train/'+classes[int(unlabeled[0])] )"
   ]
  },
  {
   "cell_type": "code",
   "execution_count": null,
   "metadata": {
    "execution": {
     "iopub.execute_input": "2022-04-17T17:47:04.676273Z",
     "iopub.status.busy": "2022-04-17T17:47:04.675533Z",
     "iopub.status.idle": "2022-04-17T17:47:04.681719Z",
     "shell.execute_reply": "2022-04-17T17:47:04.679617Z",
     "shell.execute_reply.started": "2022-04-17T17:47:04.676234Z"
    },
    "id": "jd95E9-7XE-z"
   },
   "outputs": [],
   "source": [
    "data_path = \".\"\n",
    "train_path = join(data_path, \"train/train\")\n",
    "test_path = join(data_path,\"test/test\")\n",
    "extraimage_path = join(data_path, \"extraimages\")"
   ]
  },
  {
   "cell_type": "code",
   "execution_count": null,
   "metadata": {
    "execution": {
     "iopub.execute_input": "2022-04-17T17:47:05.406643Z",
     "iopub.status.busy": "2022-04-17T17:47:05.405943Z",
     "iopub.status.idle": "2022-04-17T17:47:05.414193Z",
     "shell.execute_reply": "2022-04-17T17:47:05.41349Z",
     "shell.execute_reply.started": "2022-04-17T17:47:05.406584Z"
    },
    "id": "Ddjhho9kXE-z"
   },
   "outputs": [],
   "source": [
    "# Transformations for both the training and testing data\n",
    "mean=[0.485, 0.456, 0.406]\n",
    "std=[0.229, 0.224, 0.225]\n",
    "\n",
    "# Do data transforms here, Try many others\n",
    "train_transforms = transforms.Compose([transforms.RandomRotation(30),\n",
    "                                       transforms.Resize(DIM_1),\n",
    "                                       transforms.RandomCrop(DIM_2),\n",
    "                                       transforms.RandomHorizontalFlip(0.3),\n",
    "                                       transforms.RandomVerticalFlip(0.3),\n",
    "                                       transforms.ToTensor(),\n",
    "                                       transforms.RandomErasing(0.1),\n",
    "                                       transforms.Normalize(mean=mean, std=std)])\n",
    "\n",
    "test_transforms = transforms.Compose([ transforms.Resize(DIM_TEST_1),\n",
    "                                      transforms.CenterCrop(DIM_TEST_1),\n",
    "                                       transforms.ToTensor(),\n",
    "                                       transforms.Normalize(mean=mean, std=std)])"
   ]
  },
  {
   "cell_type": "code",
   "execution_count": null,
   "metadata": {
    "execution": {
     "iopub.execute_input": "2022-04-17T17:47:06.169405Z",
     "iopub.status.busy": "2022-04-17T17:47:06.166687Z",
     "iopub.status.idle": "2022-04-17T17:47:06.454115Z",
     "shell.execute_reply": "2022-04-17T17:47:06.453377Z",
     "shell.execute_reply.started": "2022-04-17T17:47:06.169353Z"
    },
    "id": "A1eGiU6-XE-0"
   },
   "outputs": [],
   "source": [
    "class CassavaDataset(Dataset):\n",
    "    def __init__(self, path, dim, transform=None):\n",
    "        self.classes = os.listdir(path)\n",
    "        self.path = [f\"{path}/{className}\" for className in self.classes]\n",
    "        self.file_list = [glob.glob(f\"{x}/*\") for x in self.path]\n",
    "        self.transform = transform\n",
    "        self.dim = dim\n",
    "\n",
    "        self.targets = []\n",
    "        \n",
    "\n",
    "        files = []\n",
    "        for i, className in enumerate(self.classes):\n",
    "            for fileName in self.file_list[i]:\n",
    "                files.append([i, className, fileName])\n",
    "                self.targets.append(i)\n",
    "            for fileName in self.file_list[i]:\n",
    "                files.append([i, className, fileName])\n",
    "                self.targets.append(i)\n",
    "                \n",
    "        self.file_list = files\n",
    "        files = None\n",
    "\n",
    "    def __len__(self):\n",
    "        return len(self.file_list)\n",
    "\n",
    "    def __getitem__(self, idx):\n",
    "        fileName = self.file_list[idx][2]\n",
    "        classCategory = self.file_list[idx][0]\n",
    "        im = Image.open(fileName)\n",
    "        if self.transform:\n",
    "            im = self.transform(im)\n",
    "            \n",
    "        return im.view(3, self.dim, self.dim), classCategory\n",
    "\n",
    "class CassavaTestDataset(Dataset):\n",
    "    def __init__(self, path, dim, transform=None):\n",
    "        self.classes = os.listdir(path)\n",
    "        self.path = [f\"{path}/{className}\" for className in self.classes]\n",
    "        self.file_list = [glob.glob(f\"{x}/*\") for x in self.path]\n",
    "        self.transform = transform\n",
    "        self.indices = []\n",
    "        self.dim=dim\n",
    "\n",
    "        files = []\n",
    "        for i, className in enumerate(self.classes):\n",
    "            for fileName in self.file_list[i]:\n",
    "                files.append([i, className, fileName])\n",
    "                self.indices.append(fileName.split(\"/\")[-1])\n",
    "        self.file_list = files\n",
    "        files = None\n",
    "\n",
    "    def __len__(self):\n",
    "        return len(self.file_list)\n",
    "\n",
    "    def __getitem__(self, idx):\n",
    "        fileName = self.file_list[idx][2]\n",
    "        index = self.file_list[idx][2]\n",
    "        im = Image.open(fileName)\n",
    "        if self.transform:\n",
    "            im = self.transform(im)\n",
    "            \n",
    "        return im.view(3, self.dim, self.dim), index\n",
    "\n",
    "train_data = CassavaDataset(train_path, dim=DIM_2, transform=train_transforms)\n",
    "test_data = CassavaTestDataset(test_path, dim=DIM_TEST_1, transform=test_transforms)\n",
    "unlabled_data = CassavaTestDataset(extraimage_path, dim=DIM_TEST_1, transform=test_transforms)"
   ]
  },
  {
   "cell_type": "code",
   "execution_count": null,
   "metadata": {
    "execution": {
     "iopub.execute_input": "2022-04-17T17:47:09.167705Z",
     "iopub.status.busy": "2022-04-17T17:47:09.166992Z",
     "iopub.status.idle": "2022-04-17T17:47:09.175447Z",
     "shell.execute_reply": "2022-04-17T17:47:09.174762Z",
     "shell.execute_reply.started": "2022-04-17T17:47:09.167662Z"
    },
    "id": "BAq0mvBbXE-2",
    "outputId": "f589f8ac-ffbd-40f5-df45-f7b0abc7f586"
   },
   "outputs": [],
   "source": [
    "# Creating data indices for training and validation splits:\n",
    "dataset_size = len(train_data)\n",
    "indices = list(range(dataset_size))\n",
    "split = int(np.floor(validation_split * dataset_size))\n",
    "\n",
    "if shuffle_dataset :\n",
    "    np.random.seed(random_seed)\n",
    "    np.random.shuffle(indices)\n",
    "\n",
    "train_indices, val_indices = indices[split:], indices[:split]"
   ]
  },
  {
   "cell_type": "code",
   "execution_count": null,
   "metadata": {
    "execution": {
     "iopub.execute_input": "2022-04-17T17:47:10.679533Z",
     "iopub.status.busy": "2022-04-17T17:47:10.679048Z",
     "iopub.status.idle": "2022-04-17T17:47:10.683935Z",
     "shell.execute_reply": "2022-04-17T17:47:10.682612Z",
     "shell.execute_reply.started": "2022-04-17T17:47:10.679498Z"
    },
    "id": "p8SmWz28XE-2"
   },
   "outputs": [],
   "source": [
    "train_sampler = SubsetRandomSampler(train_indices)\n",
    "valid_sampler = SubsetRandomSampler(val_indices)"
   ]
  },
  {
   "cell_type": "code",
   "execution_count": null,
   "metadata": {
    "execution": {
     "iopub.execute_input": "2022-04-17T17:47:11.530041Z",
     "iopub.status.busy": "2022-04-17T17:47:11.5295Z",
     "iopub.status.idle": "2022-04-17T17:47:11.536515Z",
     "shell.execute_reply": "2022-04-17T17:47:11.53492Z",
     "shell.execute_reply.started": "2022-04-17T17:47:11.529999Z"
    },
    "id": "2ZLWHpeSXE-2"
   },
   "outputs": [],
   "source": [
    "train_loader = torch.utils.data.DataLoader(train_data, batch_size=BATCH_SIZE,\n",
    "                                             sampler=train_sampler)\n",
    "\n",
    "valid_loader = torch.utils.data.DataLoader(train_data, batch_size=BATCH_SIZE,\n",
    "                                             sampler=valid_sampler)\n",
    "\n",
    "test_loader = torch.utils.data.DataLoader(test_data, batch_size=BATCH_SIZE)\n",
    "unlabled_loader = torch.utils.data.DataLoader(unlabled_data, batch_size=BATCH_SIZE)"
   ]
  },
  {
   "cell_type": "code",
   "execution_count": null,
   "metadata": {
    "execution": {
     "iopub.execute_input": "2022-04-17T17:47:15.572366Z",
     "iopub.status.busy": "2022-04-17T17:47:15.571838Z",
     "iopub.status.idle": "2022-04-17T17:47:15.589776Z",
     "shell.execute_reply": "2022-04-17T17:47:15.589024Z",
     "shell.execute_reply.started": "2022-04-17T17:47:15.572316Z"
    },
    "id": "mSNJfrLRXE-3"
   },
   "outputs": [],
   "source": [
    "def test(model, data_loader):\n",
    "    \"\"\"Measures the accuracy of a model on a data set.\"\"\" \n",
    "    # Make sure the model is in evaluation mode.\n",
    "    model.eval()\n",
    "    # We do not need to maintain intermediate activations while testing.\n",
    "    accs = []\n",
    "    with torch.no_grad():\n",
    "        \n",
    "        # Loop over test data.\n",
    "        for features, target in data_loader:\n",
    "          \n",
    "            # Forward pass.\n",
    "            output = model(features.to(device))\n",
    "            \n",
    "            # Get the label corresponding to the highest predicted probability.\n",
    "            pred = output.argmax(dim=1, keepdim=True)\n",
    "            \n",
    "            # Count number of correct predictions.\n",
    "            correct = pred.cpu().eq(target.view_as(pred)).sum().item()\n",
    "            total = pred.shape[0]\n",
    "            accs.append(correct/total)\n",
    "\n",
    "    # Print test accuracy.\n",
    "    percent = 100. * np.mean(accs)\n",
    "    st = np.std(accs)\n",
    "    return percent, st\n",
    "\n",
    "def train(model, criterion, data_loader, test_data_loader, optimizer, num_epochs, filename):\n",
    "    \"\"\"Simple training loop for a PyTorch model.\"\"\" \n",
    "    \n",
    "    # Make sure model is in training mode.\n",
    "    model.train()\n",
    "    \n",
    "    # Move model to the device (CPU or GPU).\n",
    "    model.to(device)\n",
    "    \n",
    "    # Exponential moving average of the loss.\n",
    "    ema_loss = None\n",
    "    \n",
    "    best_acc = 0\n",
    "\n",
    "    print('----- Training Loop -----')\n",
    "    # Loop over epochs.\n",
    "    for epoch in range(num_epochs):\n",
    "        \n",
    "        # Loop over data.\n",
    "        for batch_idx, (features, target) in enumerate(data_loader):\n",
    "\n",
    "            # Forward pass.\n",
    "            output = model(features.to(device))\n",
    "            loss = criterion(output.to(device), target.to(device))\n",
    "\n",
    "            # Backward pass.\n",
    "            optimizer.zero_grad()\n",
    "            loss.backward()\n",
    "            optimizer.step()\n",
    "\n",
    "            # NOTE: It is important to call .item() on the loss before summing.\n",
    "            if ema_loss is None:\n",
    "                ema_loss = loss.item()\n",
    "            else:\n",
    "                ema_loss += (loss.item() - ema_loss) * 0.01 \n",
    "\n",
    "        # Print out progress the end of epoch.\n",
    "        print('----- Model Evaluation -----')\n",
    "        print('Epoch: {}/{} \\tTrain Loss: {:.6f}'.format(epoch+1,num_epochs, ema_loss))\n",
    "        # train_a, train_st = test(model,data_loader)\n",
    "        test_a, test_st = test(model,test_data_loader)\n",
    "        # print(f'Train accuracy: ({train_a:.2f}%) with std:({train_st:.2f})')\n",
    "        print(f'Test accuracy: ({test_a:.2f}%) with std:({test_st:.2f})')\n",
    "        if test_a > best_acc:\n",
    "            best_acc = test_a\n",
    "            torch.save(model.state_dict(), filename+\".pth\")\n",
    "   \n",
    "    checkpoint = torch.load(filename+\".pth\")\n",
    "    model.load_state_dict(checkpoint)\n",
    "    print(\"------\")\n",
    "    test_a, test_st = test(model,test_data_loader)\n",
    "    print(f'Final test accuracy: ({test_a:.2f}%) with std:({test_st:.2f})')\n",
    "    \n",
    "    return model\n",
    "    \n",
    "\n",
    "def generate_predictions(model,data_loader):\n",
    "    model.eval()\n",
    "    preds=[]\n",
    "    idx=[]\n",
    "\n",
    "    print('----- MAKING PREDICTIONS -----')\n",
    "    # We do not need to maintain intermediate activations while testing.\n",
    "    with torch.no_grad():\n",
    "        \n",
    "        # Loop over test data.\n",
    "        for features, indices in data_loader:\n",
    "            \n",
    "            # Forward pass.\n",
    "            output = model(features.to(device))\n",
    "            \n",
    "            # Get the label corresponding to the highest predicted probability.\n",
    "            pred = output.argmax(dim=1, keepdim=True)\n",
    "            for p,ind in zip(pred,indices):\n",
    "                idx.append(ind)\n",
    "                preds.append(p.item())\n",
    "\n",
    "    return preds,idx\n",
    "\n",
    "def map_to_classes(n):\n",
    "    return train_data.classes[n]"
   ]
  },
  {
   "cell_type": "code",
   "execution_count": null,
   "metadata": {
    "execution": {
     "iopub.execute_input": "2022-04-17T17:47:50.744043Z",
     "iopub.status.busy": "2022-04-17T17:47:50.74374Z",
     "iopub.status.idle": "2022-04-17T17:47:50.754259Z",
     "shell.execute_reply": "2022-04-17T17:47:50.75353Z",
     "shell.execute_reply.started": "2022-04-17T17:47:50.743997Z"
    },
    "id": "s6epriT8XE-3"
   },
   "outputs": [],
   "source": [
    "def get_resnext(model_name):\n",
    "    model = pretrainedmodels.__dict__[model_name](num_classes=1000, pretrained='imagenet')\n",
    "    model.avg_pool = nn.AdaptiveAvgPool2d(output_size=(1, 1))\n",
    "    model.last_linear = nn.Linear(in_features=2048, out_features=5, bias=True)\n",
    "\n",
    "    criterion = torch.nn.CrossEntropyLoss()\n",
    "    optimizer = AdamHD(model.parameters(), lr=1e-4, hypergrad_lr=1e-9)\n",
    "\n",
    "    return model, criterion, optimizer\n",
    "\n",
    "def get_eff_net(model_name, dim=1792):\n",
    "    model = EfficientNet.from_pretrained(model_name)\n",
    "    model._fc = nn.Linear(in_features=dim, out_features=5, bias=True)\n",
    "    \n",
    "    criterion = torch.nn.CrossEntropyLoss()\n",
    "    optimizer = AdamHD(model.parameters(), lr=1e-4, hypergrad_lr=1e-9)\n",
    "    \n",
    "    return model, criterion, optimizer"
   ]
  },
  {
   "cell_type": "code",
   "execution_count": null,
   "metadata": {},
   "outputs": [],
   "source": [
    "preds = []\n",
    "def generate_predictions(model,data_loader):\n",
    "    model.eval()\n",
    "    preds=[]\n",
    "    idx=[]\n",
    "    values=[]\n",
    "\n",
    "    print('----- MAKING PREDICTIONS -----')\n",
    "    # We do not need to maintain intermediate activations while testing.\n",
    "    with torch.no_grad():\n",
    "        \n",
    "        # Loop over test data.\n",
    "        for features, indices in data_loader:\n",
    "            \n",
    "            # Forward pass.\n",
    "            output = model(features.to(device))\n",
    "            \n",
    "            # Get the label corresponding to the highest predicted probability.\n",
    "            pred = output.argmax(dim=1, keepdim=True)\n",
    "            value = output.max(dim=1, keepdim=True)\n",
    "            for p,v,ind in zip(pred,value[0],indices):\n",
    "#                 idx.append(ind)\n",
    "#                 print(v[0])\n",
    "                preds.append([p.item(),v.item(),ind])\n",
    "    return preds\n",
    "\n",
    "    "
   ]
  },
  {
   "cell_type": "code",
   "execution_count": null,
   "metadata": {
    "execution": {
     "iopub.execute_input": "2022-04-17T17:48:00.135979Z",
     "iopub.status.busy": "2022-04-17T17:48:00.135707Z",
     "iopub.status.idle": "2022-04-17T21:22:46.524237Z",
     "shell.execute_reply": "2022-04-17T21:22:46.523445Z",
     "shell.execute_reply.started": "2022-04-17T17:48:00.13595Z"
    },
    "id": "OjyqSV5vXE-4",
    "outputId": "167cf7e3-b066-46e7-d055-72588f910801"
   },
   "outputs": [],
   "source": [
    "model1, criterion, optimizer = get_resnext(MODEL_NAME1)\n",
    "\n",
    "model1 = train(model1, criterion, train_loader, valid_loader, optimizer, num_epochs=NUM_EPOCHS1, filename=\"effnet\")"
   ]
  },
  {
   "cell_type": "code",
   "execution_count": null,
   "metadata": {
    "execution": {
     "iopub.execute_input": "2022-04-17T08:13:57.450384Z",
     "iopub.status.busy": "2022-04-17T08:13:57.449794Z",
     "iopub.status.idle": "2022-04-17T08:13:57.469494Z",
     "shell.execute_reply": "2022-04-17T08:13:57.467702Z",
     "shell.execute_reply.started": "2022-04-17T08:13:57.450342Z"
    }
   },
   "outputs": [],
   "source": [
    "test(model1, train_loader)"
   ]
  },
  {
   "cell_type": "code",
   "execution_count": null,
   "metadata": {
    "execution": {
     "iopub.execute_input": "2022-04-17T21:38:49.864067Z",
     "iopub.status.busy": "2022-04-17T21:38:49.863447Z",
     "iopub.status.idle": "2022-04-17T21:47:08.578538Z",
     "shell.execute_reply": "2022-04-17T21:47:08.57777Z",
     "shell.execute_reply.started": "2022-04-17T21:38:49.86402Z"
    }
   },
   "outputs": [],
   "source": [
    "predictions=[]\n",
    "tta_model = tta.ClassificationTTAWrapper(model1, tta.aliases.five_crop_transform(DIM_TEST_2,DIM_TEST_2))\n",
    "predictions, _ = generate_predictions(tta_model.to(device),test_loader)\n",
    "# preds.append(predictions)"
   ]
  },
  {
   "cell_type": "code",
   "execution_count": null,
   "metadata": {
    "execution": {
     "iopub.execute_input": "2022-04-17T21:48:14.567787Z",
     "iopub.status.busy": "2022-04-17T21:48:14.567455Z",
     "iopub.status.idle": "2022-04-17T21:48:14.586073Z",
     "shell.execute_reply": "2022-04-17T21:48:14.585396Z",
     "shell.execute_reply.started": "2022-04-17T21:48:14.567752Z"
    }
   },
   "outputs": [],
   "source": [
    "final_predictions = np.mean(preds,axis=0)\n",
    "final_predictions.shape\n",
    "\n",
    "ss = pd.DataFrame({\n",
    "    \"Category\": predictions,\n",
    "    \"Id\": test_data.indices\n",
    "})"
   ]
  },
  {
   "cell_type": "code",
   "execution_count": null,
   "metadata": {
    "execution": {
     "iopub.execute_input": "2022-04-17T21:48:30.485308Z",
     "iopub.status.busy": "2022-04-17T21:48:30.485036Z",
     "iopub.status.idle": "2022-04-17T21:48:30.50266Z",
     "shell.execute_reply": "2022-04-17T21:48:30.501869Z",
     "shell.execute_reply.started": "2022-04-17T21:48:30.485278Z"
    }
   },
   "outputs": [],
   "source": [
    "ss.to_csv('resnet_submission.csv\",index=False)"
   ]
  },
  {
   "cell_type": "code",
   "execution_count": null,
   "metadata": {
    "execution": {
     "iopub.execute_input": "2022-04-17T22:46:41.833079Z",
     "iopub.status.busy": "2022-04-17T22:46:41.832799Z",
     "iopub.status.idle": "2022-04-17T22:46:46.448713Z",
     "shell.execute_reply": "2022-04-17T22:46:46.447839Z",
     "shell.execute_reply.started": "2022-04-17T22:46:41.833034Z"
    }
   },
   "outputs": [],
   "source": [
    "!kaggle competitions submit -c ammi-2022-convnets -f desparate.csv -m \"last\""
   ]
  },
  {
   "cell_type": "code",
   "execution_count": null,
   "metadata": {
    "execution": {
     "iopub.execute_input": "2022-04-17T14:05:47.092382Z",
     "iopub.status.busy": "2022-04-17T14:05:47.092116Z",
     "iopub.status.idle": "2022-04-17T14:05:47.106008Z",
     "shell.execute_reply": "2022-04-17T14:05:47.104999Z",
     "shell.execute_reply.started": "2022-04-17T14:05:47.092352Z"
    }
   },
   "outputs": [],
   "source": [
    "ss[\"Category\"] = predictions\n",
    "ss[\"Category\"] = ss[\"Category\"].apply(map_to_classes)\n",
    "ss.head()"
   ]
  },
  {
   "cell_type": "markdown",
   "metadata": {
    "execution": {
     "iopub.execute_input": "2022-04-17T06:08:34.139806Z",
     "iopub.status.busy": "2022-04-17T06:08:34.139519Z",
     "iopub.status.idle": "2022-04-17T06:08:34.143428Z",
     "shell.execute_reply": "2022-04-17T06:08:34.142765Z",
     "shell.execute_reply.started": "2022-04-17T06:08:34.139755Z"
    }
   },
   "source": [
    "## Pseudo labling"
   ]
  },
  {
   "cell_type": "code",
   "execution_count": null,
   "metadata": {
    "execution": {
     "iopub.execute_input": "2022-04-17T08:24:47.068726Z",
     "iopub.status.busy": "2022-04-17T08:24:47.068432Z",
     "iopub.status.idle": "2022-04-17T08:34:00.625725Z",
     "shell.execute_reply": "2022-04-17T08:34:00.624734Z",
     "shell.execute_reply.started": "2022-04-17T08:24:47.068693Z"
    }
   },
   "outputs": [],
   "source": [
    "model1, criterion, optimizer = get_resnext(MODEL_NAME1)\n",
    "checkpoint = torch.load(\"/kaggle/input/bestmod/bestmod.pth\")\n",
    "model1.load_state_dict(checkpoint)\n",
    "# tta_model = tta.ClassificationTTAWrapper(model1, tta.aliases.five_crop_transform(DIM_TEST_2,DIM_TEST_2))"
   ]
  },
  {
   "cell_type": "code",
   "execution_count": null,
   "metadata": {},
   "outputs": [],
   "source": [
    "classes=['cbsd', 'healthy', 'cbb', 'cmd', 'cgm']\n",
    "test(model1.to(device), train_loader)\n",
    "predict= generate_predictions(tta_model.to(device),unlabled_loader)\n",
    "classes=train_data.classes\n",
    "pred=np.array(predict)"
   ]
  },
  {
   "cell_type": "code",
   "execution_count": null,
   "metadata": {},
   "outputs": [],
   "source": [
    "labeled_df= pd.DataFrame(predict)\n",
    "labeled_df.to_csv('./labelednew.csv', index=False)"
   ]
  },
  {
   "cell_type": "code",
   "execution_count": null,
   "metadata": {
    "execution": {
     "iopub.execute_input": "2022-04-17T08:49:12.239454Z",
     "iopub.status.busy": "2022-04-17T08:49:12.239189Z",
     "iopub.status.idle": "2022-04-17T08:49:12.289972Z",
     "shell.execute_reply": "2022-04-17T08:49:12.289186Z",
     "shell.execute_reply.started": "2022-04-17T08:49:12.239425Z"
    }
   },
   "outputs": [],
   "source": [
    "labeled_df= pd.read_csv('/kaggle/input/labeled/labelednew.csv')\n",
    "predictnew=labeled_df.to_numpy()\n",
    "pred=np.array(predictnew)\n",
    "unlabled_list =pred[(-pred[:,1].astype('float64')).argsort()[:1000]]\n",
    "for unlabeled in unlabled_list:\n",
    "    shutil.copy(unlabeled[2],'/kaggle/working/Cassava_Disease_Classification/train/train/'+classes[int(unlabeled[0])] )"
   ]
  },
  {
   "cell_type": "code",
   "execution_count": null,
   "metadata": {},
   "outputs": [],
   "source": [
    "shutil.make_archive('newtrain', 'zip', '/kaggle/working/Cassava_Disease_Classification/train/train')"
   ]
  },
  {
   "cell_type": "markdown",
   "metadata": {},
   "source": [
    "### Testing"
   ]
  },
  {
   "cell_type": "code",
   "execution_count": null,
   "metadata": {
    "id": "zdFXkm5YXE-4"
   },
   "outputs": [],
   "source": [
    "final_predictions = np.mean(preds,axis=0)\n",
    "final_predictions.shape"
   ]
  },
  {
   "cell_type": "code",
   "execution_count": null,
   "metadata": {
    "id": "80AcS4JVXE-4"
   },
   "outputs": [],
   "source": [
    "ss = pd.DataFrame({\n",
    "    \"Category\": final_predictions,\n",
    "    \"Id\": test_data.indices\n",
    "})\n",
    "ss.head()"
   ]
  },
  {
   "cell_type": "code",
   "execution_count": null,
   "metadata": {
    "id": "I4jbZxRVXE-4"
   },
   "outputs": [],
   "source": [
    "ss[\"Category\"] = predictions\n",
    "ss[\"Category\"] = ss[\"Category\"].apply(map_to_classes)\n",
    "ss.head()"
   ]
  },
  {
   "cell_type": "code",
   "execution_count": null,
   "metadata": {
    "id": "CWmtT41DXE-4"
   },
   "outputs": [],
   "source": [
    "ss.to_csv(NAME+\".csv\",index=False)"
   ]
  },
  {
   "cell_type": "code",
   "execution_count": null,
   "metadata": {
    "id": "aMqK0FDbO5Ma",
    "outputId": "2cdcd140-4491-4e78-919f-e8340a104cf5"
   },
   "outputs": [],
   "source": [
    "resnet, criterion, optimizer = get_resnext(MODEL_NAME1)"
   ]
  },
  {
   "cell_type": "code",
   "execution_count": null,
   "metadata": {
    "id": "8NQhpvC0VXJQ",
    "outputId": "8977f21a-c21e-4b82-958d-c0e04bff8259"
   },
   "outputs": [],
   "source": [
    "checkpoint = torch.load(\"/kaggle/input/resent/resnext.pth\")\n",
    "resnet.load_state_dict(checkpoint)\n",
    "tta_model = tta.ClassificationTTAWrapper(resnet, tta.aliases.five_crop_transform(DIM_TEST_2,DIM_TEST_2))\n",
    "tta_model.to(device)\n",
    "tta_model.eval()"
   ]
  }
 ],
 "metadata": {
  "kernelspec": {
   "display_name": "Python 3 (ipykernel)",
   "language": "python",
   "name": "python3"
  },
  "language_info": {
   "codemirror_mode": {
    "name": "ipython",
    "version": 3
   },
   "file_extension": ".py",
   "mimetype": "text/x-python",
   "name": "python",
   "nbconvert_exporter": "python",
   "pygments_lexer": "ipython3",
   "version": "3.9.7"
  }
 },
 "nbformat": 4,
 "nbformat_minor": 4
}
